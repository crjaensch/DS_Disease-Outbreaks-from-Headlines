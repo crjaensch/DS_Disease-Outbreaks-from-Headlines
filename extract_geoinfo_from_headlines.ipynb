{
 "cells": [
  {
   "cell_type": "code",
   "execution_count": 1,
   "metadata": {},
   "outputs": [],
   "source": [
    "# Python imports\n",
    "import re\n",
    "from unidecode import unidecode\n",
    "from geonamescache import GeonamesCache\n",
    "import pandas as pd"
   ]
  },
  {
   "cell_type": "code",
   "execution_count": 2,
   "metadata": {},
   "outputs": [],
   "source": [
    "data_file = open('headlines.txt','r')\n",
    "news_headlines = [headline.strip() for headline in data_file.readlines()]"
   ]
  },
  {
   "cell_type": "code",
   "execution_count": 3,
   "metadata": {},
   "outputs": [
    {
     "name": "stdout",
     "output_type": "stream",
     "text": [
      "The data file contains 650 headlines\n"
     ]
    }
   ],
   "source": [
    "# Check number of headlines\n",
    "print(f\"The data file contains {len(news_headlines)} headlines\")"
   ]
  },
  {
   "cell_type": "code",
   "execution_count": 4,
   "metadata": {},
   "outputs": [],
   "source": [
    "#   Helper class for parsing a new headline string in order to identify whether\n",
    "#   a well-known country and/or city is mentioned in the news headline string\n",
    "#   The constructor requires a valid instance of the GeonamesCache module.\n",
    "#\n",
    "class HeadlineParser:\n",
    "    def __init__(self, geoCache):\n",
    "        self.geoCache = geoCache\n",
    "        self.city_list = None\n",
    "        self.country_list = None\n",
    "     \n",
    "    def get_country_name(self, headline):\n",
    "        return self.__get_geoname_from(headline, self.__country_search_list())\n",
    "    \n",
    "    def get_city_name(self, headline):\n",
    "        return self.__get_geoname_from(headline, self.__city_search_list())\n",
    "\n",
    "    # returns a tuple with country and city name mentioned in the given headline.\n",
    "    def get_geoinfo(self, headline):\n",
    "        return (self.get_country_name(headline), self.get_city_name(headline))\n",
    "    \n",
    "    def __city_search_list(self):\n",
    "        if self.city_list is None:\n",
    "            self.city_list = self.__get_geoname_list(self.geoCache.get_cities().values())\n",
    "        return self.city_list\n",
    "    \n",
    "    def __country_search_list(self):\n",
    "        if self.country_list is None:\n",
    "            self.country_list = self.__get_geoname_list(self.geoCache.get_countries().values())\n",
    "        return self.country_list\n",
    "    \n",
    "    def __get_geoname_list(self, geoitems_list):\n",
    "        geo_item_dict = { self.__create_location_regex(geo_item['name']) : geo_item['name'] for geo_item in geoitems_list }\n",
    "        sorted_list = sorted(geo_item_dict.items(), key=lambda x: x[1])\n",
    "        return sorted_list\n",
    "    \n",
    "    def __get_geoname_from(self, headline, geoname_search_list):\n",
    "        for geoname_regex, geoname in geoname_search_list:\n",
    "            if geoname_regex.search(headline):\n",
    "                return geoname\n",
    "        return None\n",
    "    \n",
    "    def __create_location_regex(self, location_name):\n",
    "        name_in_ascii = unidecode(location_name)\n",
    "        if location_name != name_in_ascii:\n",
    "            regex = fr'\\b({location_name}|{name_in_ascii})\\b'\n",
    "        else:\n",
    "            regex = fr'\\b({location_name})\\b'\n",
    "        return re.compile(regex, flags=re.IGNORECASE)"
   ]
  },
  {
   "cell_type": "code",
   "execution_count": 5,
   "metadata": {},
   "outputs": [
    {
     "name": "stdout",
     "output_type": "stream",
     "text": [
      "Test headline1: identified the following city and country name: New York City/United States\n",
      "Test headline1: identified the following city and country name: None/Australia\n",
      "Test headline1: identified the following city and country name: Munich/None\n"
     ]
    }
   ],
   "source": [
    "# Check HeadlineParser functionality\n",
    "hl_parser = HeadlineParser(GeonamesCache())\n",
    "\n",
    "hline1 = 'A headline containing a reference to New york city, United States'\n",
    "(country1, city1) = hl_parser.get_geoinfo(hline1)\n",
    "print(f\"Test headline1: identified the following city and country name: {city1}/{country1}\")\n",
    "\n",
    "\n",
    "hline2 = 'A headline without a known city mentioned in Australia'\n",
    "(country2, city2) = hl_parser.get_geoinfo(hline2)\n",
    "print(f\"Test headline1: identified the following city and country name: {city2}/{country2}\")\n",
    "\n",
    "\n",
    "hline3 = 'Some breaking news happened in Munich'\n",
    "(country3, city3) = hl_parser.get_geoinfo(hline3)\n",
    "print(f\"Test headline1: identified the following city and country name: {city3}/{country3}\")"
   ]
  },
  {
   "cell_type": "code",
   "execution_count": 6,
   "metadata": {},
   "outputs": [],
   "source": [
    "# Extract country and city per headline (leaving country undefined if not mentioned so far)\n",
    "country_per_headline = [hl_parser.get_country_name(headline) for headline in news_headlines]\n",
    "city_per_headline = [hl_parser.get_city_name(headline) for headline in news_headlines]"
   ]
  },
  {
   "cell_type": "code",
   "execution_count": 7,
   "metadata": {},
   "outputs": [],
   "source": [
    "# Create Pandas dataframe from headlines and enriched data\n",
    "enriched_data = { 'headline' : news_headlines, 'city' : city_per_headline, 'country' : country_per_headline }\n",
    "headlines_df = pd.DataFrame(enriched_data)"
   ]
  },
  {
   "cell_type": "code",
   "execution_count": 8,
   "metadata": {},
   "outputs": [
    {
     "name": "stdout",
     "output_type": "stream",
     "text": [
      "                                    headline city   country\n",
      "count                                    650  619        15\n",
      "unique                                   647  510        10\n",
      "top     Spanish Flu Spreading through Madrid   Of  Malaysia\n",
      "freq                                       2   45         3\n"
     ]
    }
   ],
   "source": [
    "summary = headlines_df.describe()\n",
    "print(summary)"
   ]
  },
  {
   "cell_type": "code",
   "execution_count": 9,
   "metadata": {},
   "outputs": [
    {
     "name": "stdout",
     "output_type": "stream",
     "text": [
      "                                              headline           city country\n",
      "0                             Zika Outbreak Hits Miami          Miami    None\n",
      "1                      Could Zika Reach New York City?  New York City    None\n",
      "2                    First Case of Zika in Miami Beach          Miami    None\n",
      "3              Mystery Virus Spreads in Recife, Brazil         Recife  Brazil\n",
      "4              Dallas man comes down with case of Zika         Dallas    None\n",
      "..                                                 ...            ...     ...\n",
      "645  Rumors about Rabies spreading in Jerusalem hav...      Jerusalem    None\n",
      "646              More Zika patients reported in Indang         Indang    None\n",
      "647  Suva authorities confirmed the spread of Rotav...             Of    None\n",
      "648         More Zika patients reported in Bella Vista    Bella Vista    None\n",
      "649                     Zika Outbreak in Wichita Falls        Wichita    None\n",
      "\n",
      "[650 rows x 3 columns]\n"
     ]
    }
   ],
   "source": [
    "print(headlines_df)"
   ]
  }
 ],
 "metadata": {
  "kernelspec": {
   "display_name": "Python 3",
   "language": "python",
   "name": "python3"
  },
  "language_info": {
   "codemirror_mode": {
    "name": "ipython",
    "version": 3
   },
   "file_extension": ".py",
   "mimetype": "text/x-python",
   "name": "python",
   "nbconvert_exporter": "python",
   "pygments_lexer": "ipython3",
   "version": "3.7.6"
  }
 },
 "nbformat": 4,
 "nbformat_minor": 4
}
